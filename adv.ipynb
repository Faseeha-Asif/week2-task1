{
 "cells": [
  {
   "cell_type": "code",
   "execution_count": 13,
   "id": "8ecb19bd-9eb9-4cc7-88d0-0b0222dee479",
   "metadata": {},
   "outputs": [],
   "source": [
    "import pandas as pd\n",
    "from sklearn.model_selection import train_test_split,GridSearchCV\n",
    "from sklearn.pipeline import Pipeline\n",
    "from sklearn.compose import ColumnTransformer\n",
    "from sklearn.preprocessing import StandardScaler,OneHotEncoder\n",
    "from sklearn.linear_model import LogisticRegression\n",
    "from sklearn.ensemble import RandomForestClassifier\n",
    "from sklearn.metrics import classification_report,accuracy_score,roc_auc_score\n",
    "import joblib\n"
   ]
  },
  {
   "cell_type": "code",
   "execution_count": null,
   "id": "a0b0b252-0284-4c5a-92f4-00b7d9605e97",
   "metadata": {},
   "outputs": [],
   "source": [
    "url = \"https://raw.githubusercontent.com/IBM/telco-customer-churn-on-icp4d/master/data/Telco-Customer-Churn.csv\"\n",
    "df = pd.read_csv(url)\n",
    "print(\"🔥 Dataset Shape:\", df.shape)\n",
    "print(\"\\n📊 First 5 Rows:\")\n",
    "print(df.head())\n",
    "\n",
    "print(\"\\n🧾 Data Info (dtypes, missing values):\")\n",
    "print(df.info())"
   ]
  },
  {
   "cell_type": "code",
   "execution_count": null,
   "id": "87ad9a18-79e6-4222-afc0-52c6696de4ea",
   "metadata": {},
   "outputs": [],
   "source": [
    "df['TotalCharges']=pd.to_numeric(df['TotalCharges'],errors=\"coerce\")\n",
    "df.dropna(inplace=True)\n",
    "df.drop('customerID',axis=1,inplace=True)\n",
    "df['Churn']=df['Churn'].map({'Yes':1,'No':0})\n",
    "print(df.shape)\n",
    "print(df.head(3))"
   ]
  },
  {
   "cell_type": "code",
   "execution_count": null,
   "id": "9128a19d-1652-4465-a2bd-ccf29fa4997e",
   "metadata": {},
   "outputs": [],
   "source": [
    "x=df.drop('Churn',axis=1)\n",
    "y=df['Churn']\n",
    "x_train,x_test,y_train,y_test=train_test_split(x,y,test_size=0.3,random_state=42,stratify=y)\n",
    "print(x_train.shape,x_test.shape)\n",
    "print(y_train.value_counts(normalize=True).map(lambda x: f\"{x:.1%}\"))"
   ]
  },
  {
   "cell_type": "code",
   "execution_count": null,
   "id": "febb1221-cd8b-4b8d-a64b-e381f19c21ad",
   "metadata": {},
   "outputs": [],
   "source": [
    "numerical_features=x.select_dtypes(include=['int64','float64']).columns.tolist()\n",
    "categorical_features = x.select_dtypes(include=['object']).columns.tolist()\n",
    "print(numerical_features)\n",
    "print(categorical_features)"
   ]
  },
  {
   "cell_type": "code",
   "execution_count": null,
   "id": "d68f7d39-2a78-4dd4-aaa8-4f5a864728b6",
   "metadata": {},
   "outputs": [],
   "source": [
    "preprocessor=ColumnTransformer(\n",
    "    transformers=[('num',StandardScaler(),numerical_features),\n",
    "                  ('cat',OneHotEncoder(),categorical_features)],\n",
    "                  remainder='passthrough'\n",
    ")"
   ]
  },
  {
   "cell_type": "code",
   "execution_count": null,
   "id": "207952a5-6509-4832-a5aa-7f9d84b33559",
   "metadata": {},
   "outputs": [],
   "source": [
    "model_pipeline=Pipeline([\n",
    "    ('preprocessor',preprocessor),\n",
    "    ('classifier',LogisticRegression(random_state=42,max_iter=1000))\n",
    "])\n",
    "\n",
    "#Training\n",
    "model_pipeline.fit(x_train,y_train)\n",
    "\n",
    "#Evaluate\n",
    "y_pred_lr=model_pipeline.predict(x_test)\n",
    "print(\"Random forest performance\")\n",
    "print(classification_report(y_test,y_pred_lr))"
   ]
  },
  {
   "cell_type": "code",
   "execution_count": null,
   "id": "61c9e63b-e7a1-4d2a-8e55-4147d81b54ad",
   "metadata": {},
   "outputs": [],
   "source": [
    "rf_pipeline=Pipeline([\n",
    "    ('preprocessor',preprocessor),\n",
    "    ('classifier',RandomForestClassifier(random_state=42))\n",
    "])\n",
    "\n",
    "#Training\n",
    "rf_pipeline.fit(x_train,y_train)\n",
    "\n",
    "#Evaluate\n",
    "y_pred_rf=rf_pipeline.predict(x_test)\n",
    "print(\"Random forest performance\")\n",
    "print(classification_report(y_test,y_pred_rf))"
   ]
  },
  {
   "cell_type": "code",
   "execution_count": null,
   "id": "00e1d3ee-16c5-4df7-a04a-58c3633430ee",
   "metadata": {},
   "outputs": [],
   "source": [
    "#Logistic Regression\n",
    "y_pred_lr=model_pipeline.predict(x_test)\n",
    "y_pred_proba_lr=model_pipeline.predict_proba(x_test)[:,1]\n",
    "# Random Forest\n",
    "y_pred_rf = rf_pipeline.predict(x_test)\n",
    "y_pred_proba_rf = rf_pipeline.predict_proba(x_test)[:, 1]\n",
    "\n",
    "# AUC scores\n",
    "auc_lr = roc_auc_score(y_test, y_pred_proba_lr)\n",
    "auc_rf = roc_auc_score(y_test, y_pred_rf)\n",
    "\n",
    "print(\"📊 Model Comparison\")\n",
    "print(f\"Logistic Regression AUC: {auc_lr:.4f}, Accuracy: {accuracy_score(y_test, y_pred_lr):.4f}\")\n",
    "print(f\"Random Forest AUC:      {auc_rf:.4f}, Accuracy: {accuracy_score(y_test, y_pred_rf):.4f}\")"
   ]
  },
  {
   "cell_type": "code",
   "execution_count": null,
   "id": "3171256c-ae7c-491a-86f6-52c1c04dbc04",
   "metadata": {},
   "outputs": [],
   "source": [
    "param_grid = {\n",
    "    'classifier__n_estimators': [100, 200],\n",
    "    'classifier__max_depth': [10, 15, None],\n",
    "    'classifier__min_samples_split': [2, 5],\n",
    "    'classifier__class_weight': ['balanced', None]\n",
    "}\n",
    "grid = GridSearchCV(\n",
    "    rf_pipeline,           # your Random Forest pipeline\n",
    "    param_grid,\n",
    "    cv=5,                  # 5-fold cross-validation\n",
    "    scoring='roc_auc',     # optimize for AUC\n",
    "    n_jobs=-1,\n",
    "    verbose=1\n",
    ")\n",
    "grid.fit(x_train,y_train)\n",
    "print(\"Best Parameters:\", grid.best_params_)\n",
    "print(\"Best Cross-Validation AUC:\", grid.best_score_.round(4))"
   ]
  },
  {
   "cell_type": "code",
   "execution_count": null,
   "id": "25f31e8e-f3cd-498b-a873-20fa3ca0456c",
   "metadata": {},
   "outputs": [],
   "source": [
    "from sklearn.metrics import classification_report, roc_auc_score\n",
    "\n",
    "y_pred_best = grid.best_estimator_.predict(x_test)\n",
    "y_pred_proba_best = grid.best_estimator_.predict_proba(x_test)[:, 1]\n",
    "\n",
    "print(\"Final Model - Classification Report:\")\n",
    "print(classification_report(y_test, y_pred_best))\n",
    "\n",
    "print(f\"Final Test AUC: {roc_auc_score(y_test, y_pred_proba_best):.4f}\")"
   ]
  },
  {
   "cell_type": "code",
   "execution_count": null,
   "id": "2644e48f-c6d5-467c-9f8f-e84fc70f14cd",
   "metadata": {},
   "outputs": [],
   "source": [
    "import joblib\n",
    "joblib.dump(grid.best_estimator_, 'churn_prediction_pipeline.pkl')\n",
    "print(\"💾 Model saved!\")"
   ]
  },
  {
   "cell_type": "code",
   "execution_count": null,
   "id": "3ae38afd-a3bd-46e8-8b96-ba2c3941f3df",
   "metadata": {},
   "outputs": [],
   "source": []
  },
  {
   "cell_type": "code",
   "execution_count": null,
   "id": "69d1d044-fc57-4ed3-9e5c-3551701be92e",
   "metadata": {},
   "outputs": [],
   "source": []
  }
 ],
 "metadata": {
  "kernelspec": {
   "display_name": "Python (mystocks)",
   "language": "python",
   "name": "mystocks"
  },
  "language_info": {
   "codemirror_mode": {
    "name": "ipython",
    "version": 3
   },
   "file_extension": ".py",
   "mimetype": "text/x-python",
   "name": "python",
   "nbconvert_exporter": "python",
   "pygments_lexer": "ipython3",
   "version": "3.9.23"
  }
 },
 "nbformat": 4,
 "nbformat_minor": 5
}
